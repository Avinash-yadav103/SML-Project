{
 "cells": [
  {
   "cell_type": "markdown",
   "id": "3c37be22",
   "metadata": {},
   "source": [
    "# Preprocessing Household Electricity Consumption Data\n",
    "This notebook demonstrates preprocessing steps on synthetic household electricity consumption data."
   ]
  },
  {
   "cell_type": "code",
   "execution_count": 13,
   "id": "8b6e1be6",
   "metadata": {},
   "outputs": [
    {
     "data": {
      "text/html": [
       "<div>\n",
       "<style scoped>\n",
       "    .dataframe tbody tr th:only-of-type {\n",
       "        vertical-align: middle;\n",
       "    }\n",
       "\n",
       "    .dataframe tbody tr th {\n",
       "        vertical-align: top;\n",
       "    }\n",
       "\n",
       "    .dataframe thead th {\n",
       "        text-align: right;\n",
       "    }\n",
       "</style>\n",
       "<table border=\"1\" class=\"dataframe\">\n",
       "  <thead>\n",
       "    <tr style=\"text-align: right;\">\n",
       "      <th></th>\n",
       "      <th>Appliance</th>\n",
       "      <th>Voltage (V)</th>\n",
       "      <th>Power Consumption (W)</th>\n",
       "      <th>Daily Usage (hrs)</th>\n",
       "      <th>Monthly Usage (%)</th>\n",
       "    </tr>\n",
       "  </thead>\n",
       "  <tbody>\n",
       "    <tr>\n",
       "      <th>0</th>\n",
       "      <td>Fan</td>\n",
       "      <td>230</td>\n",
       "      <td>82.12</td>\n",
       "      <td>8.00</td>\n",
       "      <td>19.02</td>\n",
       "    </tr>\n",
       "    <tr>\n",
       "      <th>1</th>\n",
       "      <td>Air Conditioner</td>\n",
       "      <td>230</td>\n",
       "      <td>1588.76</td>\n",
       "      <td>4.21</td>\n",
       "      <td>40.17</td>\n",
       "    </tr>\n",
       "    <tr>\n",
       "      <th>2</th>\n",
       "      <td>Refrigerator</td>\n",
       "      <td>230</td>\n",
       "      <td>199.58</td>\n",
       "      <td>24.00</td>\n",
       "      <td>8.23</td>\n",
       "    </tr>\n",
       "    <tr>\n",
       "      <th>3</th>\n",
       "      <td>LED Bulb</td>\n",
       "      <td>230</td>\n",
       "      <td>15.94</td>\n",
       "      <td>7.90</td>\n",
       "      <td>7.15</td>\n",
       "    </tr>\n",
       "    <tr>\n",
       "      <th>4</th>\n",
       "      <td>Television</td>\n",
       "      <td>230</td>\n",
       "      <td>98.72</td>\n",
       "      <td>3.09</td>\n",
       "      <td>4.35</td>\n",
       "    </tr>\n",
       "  </tbody>\n",
       "</table>\n",
       "</div>"
      ],
      "text/plain": [
       "         Appliance  Voltage (V)  Power Consumption (W)  Daily Usage (hrs)  \\\n",
       "0              Fan          230                  82.12               8.00   \n",
       "1  Air Conditioner          230                1588.76               4.21   \n",
       "2     Refrigerator          230                 199.58              24.00   \n",
       "3         LED Bulb          230                  15.94               7.90   \n",
       "4       Television          230                  98.72               3.09   \n",
       "\n",
       "   Monthly Usage (%)  \n",
       "0              19.02  \n",
       "1              40.17  \n",
       "2               8.23  \n",
       "3               7.15  \n",
       "4               4.35  "
      ]
     },
     "execution_count": 13,
     "metadata": {},
     "output_type": "execute_result"
    }
   ],
   "source": [
    "import pandas as pd\n",
    "from sklearn.preprocessing import StandardScaler\n",
    "\n",
    "# Load the dataset\n",
    "data = pd.read_csv('Synthetic_Household_Electricity_Consumption_Dataset.csv')\n",
    "data.head()"
   ]
  },
  {
   "cell_type": "markdown",
   "id": "f0ae9011",
   "metadata": {},
   "source": [
    "## Step 1: Check for Missing Values"
   ]
  },
  {
   "cell_type": "code",
   "execution_count": 14,
   "id": "f40c1d67",
   "metadata": {},
   "outputs": [
    {
     "data": {
      "text/plain": [
       "Appliance                0\n",
       "Voltage (V)              0\n",
       "Power Consumption (W)    0\n",
       "Daily Usage (hrs)        0\n",
       "Monthly Usage (%)        0\n",
       "dtype: int64"
      ]
     },
     "execution_count": 14,
     "metadata": {},
     "output_type": "execute_result"
    }
   ],
   "source": [
    "missing_values = data.isnull().sum()\n",
    "missing_values"
   ]
  },
  {
   "cell_type": "markdown",
   "id": "23c6ddb6",
   "metadata": {},
   "source": [
    "## Step 2: Standardize Numerical Data\n",
    "Using `StandardScaler` to standardize *Power Consumption (W)* and *Daily Usage (hrs)*."
   ]
  },
  {
   "cell_type": "code",
   "execution_count": 15,
   "id": "3761e115",
   "metadata": {},
   "outputs": [
    {
     "data": {
      "text/html": [
       "<div>\n",
       "<style scoped>\n",
       "    .dataframe tbody tr th:only-of-type {\n",
       "        vertical-align: middle;\n",
       "    }\n",
       "\n",
       "    .dataframe tbody tr th {\n",
       "        vertical-align: top;\n",
       "    }\n",
       "\n",
       "    .dataframe thead th {\n",
       "        text-align: right;\n",
       "    }\n",
       "</style>\n",
       "<table border=\"1\" class=\"dataframe\">\n",
       "  <thead>\n",
       "    <tr style=\"text-align: right;\">\n",
       "      <th></th>\n",
       "      <th>Appliance</th>\n",
       "      <th>Voltage (V)</th>\n",
       "      <th>Power Consumption (W)</th>\n",
       "      <th>Daily Usage (hrs)</th>\n",
       "      <th>Monthly Usage (%)</th>\n",
       "    </tr>\n",
       "  </thead>\n",
       "  <tbody>\n",
       "    <tr>\n",
       "      <th>0</th>\n",
       "      <td>Fan</td>\n",
       "      <td>230</td>\n",
       "      <td>-0.905778</td>\n",
       "      <td>0.344560</td>\n",
       "      <td>19.02</td>\n",
       "    </tr>\n",
       "    <tr>\n",
       "      <th>1</th>\n",
       "      <td>Air Conditioner</td>\n",
       "      <td>230</td>\n",
       "      <td>0.801732</td>\n",
       "      <td>-0.190922</td>\n",
       "      <td>40.17</td>\n",
       "    </tr>\n",
       "    <tr>\n",
       "      <th>2</th>\n",
       "      <td>Refrigerator</td>\n",
       "      <td>230</td>\n",
       "      <td>-0.772658</td>\n",
       "      <td>2.605167</td>\n",
       "      <td>8.23</td>\n",
       "    </tr>\n",
       "    <tr>\n",
       "      <th>3</th>\n",
       "      <td>LED Bulb</td>\n",
       "      <td>230</td>\n",
       "      <td>-0.980782</td>\n",
       "      <td>0.330431</td>\n",
       "      <td>7.15</td>\n",
       "    </tr>\n",
       "    <tr>\n",
       "      <th>4</th>\n",
       "      <td>Television</td>\n",
       "      <td>230</td>\n",
       "      <td>-0.886965</td>\n",
       "      <td>-0.349164</td>\n",
       "      <td>4.35</td>\n",
       "    </tr>\n",
       "  </tbody>\n",
       "</table>\n",
       "</div>"
      ],
      "text/plain": [
       "         Appliance  Voltage (V)  Power Consumption (W)  Daily Usage (hrs)  \\\n",
       "0              Fan          230              -0.905778           0.344560   \n",
       "1  Air Conditioner          230               0.801732          -0.190922   \n",
       "2     Refrigerator          230              -0.772658           2.605167   \n",
       "3         LED Bulb          230              -0.980782           0.330431   \n",
       "4       Television          230              -0.886965          -0.349164   \n",
       "\n",
       "   Monthly Usage (%)  \n",
       "0              19.02  \n",
       "1              40.17  \n",
       "2               8.23  \n",
       "3               7.15  \n",
       "4               4.35  "
      ]
     },
     "execution_count": 15,
     "metadata": {},
     "output_type": "execute_result"
    }
   ],
   "source": [
    "scaler = StandardScaler()\n",
    "data[['Power Consumption (W)', 'Daily Usage (hrs)']] = scaler.fit_transform(data[['Power Consumption (W)', 'Daily Usage (hrs)']])\n",
    "data.head()"
   ]
  },
  {
   "cell_type": "markdown",
   "id": "8e066328",
   "metadata": {},
   "source": [
    "## Step 3: Add Derived Feature - Daily Energy Consumption (Wh)\n",
    "Calculate the daily energy consumption by multiplying *Power Consumption (W)* and *Daily Usage (hrs)*."
   ]
  },
  {
   "cell_type": "code",
   "execution_count": 16,
   "id": "f6cbb514",
   "metadata": {},
   "outputs": [
    {
     "data": {
      "text/html": [
       "<div>\n",
       "<style scoped>\n",
       "    .dataframe tbody tr th:only-of-type {\n",
       "        vertical-align: middle;\n",
       "    }\n",
       "\n",
       "    .dataframe tbody tr th {\n",
       "        vertical-align: top;\n",
       "    }\n",
       "\n",
       "    .dataframe thead th {\n",
       "        text-align: right;\n",
       "    }\n",
       "</style>\n",
       "<table border=\"1\" class=\"dataframe\">\n",
       "  <thead>\n",
       "    <tr style=\"text-align: right;\">\n",
       "      <th></th>\n",
       "      <th>Appliance</th>\n",
       "      <th>Voltage (V)</th>\n",
       "      <th>Power Consumption (W)</th>\n",
       "      <th>Daily Usage (hrs)</th>\n",
       "      <th>Monthly Usage (%)</th>\n",
       "      <th>Daily Energy Consumption (Wh)</th>\n",
       "    </tr>\n",
       "  </thead>\n",
       "  <tbody>\n",
       "    <tr>\n",
       "      <th>0</th>\n",
       "      <td>Fan</td>\n",
       "      <td>230</td>\n",
       "      <td>-0.905778</td>\n",
       "      <td>0.344560</td>\n",
       "      <td>19.02</td>\n",
       "      <td>-0.312095</td>\n",
       "    </tr>\n",
       "    <tr>\n",
       "      <th>1</th>\n",
       "      <td>Air Conditioner</td>\n",
       "      <td>230</td>\n",
       "      <td>0.801732</td>\n",
       "      <td>-0.190922</td>\n",
       "      <td>40.17</td>\n",
       "      <td>-0.153068</td>\n",
       "    </tr>\n",
       "    <tr>\n",
       "      <th>2</th>\n",
       "      <td>Refrigerator</td>\n",
       "      <td>230</td>\n",
       "      <td>-0.772658</td>\n",
       "      <td>2.605167</td>\n",
       "      <td>8.23</td>\n",
       "      <td>-2.012904</td>\n",
       "    </tr>\n",
       "    <tr>\n",
       "      <th>3</th>\n",
       "      <td>LED Bulb</td>\n",
       "      <td>230</td>\n",
       "      <td>-0.980782</td>\n",
       "      <td>0.330431</td>\n",
       "      <td>7.15</td>\n",
       "      <td>-0.324081</td>\n",
       "    </tr>\n",
       "    <tr>\n",
       "      <th>4</th>\n",
       "      <td>Television</td>\n",
       "      <td>230</td>\n",
       "      <td>-0.886965</td>\n",
       "      <td>-0.349164</td>\n",
       "      <td>4.35</td>\n",
       "      <td>0.309697</td>\n",
       "    </tr>\n",
       "  </tbody>\n",
       "</table>\n",
       "</div>"
      ],
      "text/plain": [
       "         Appliance  Voltage (V)  Power Consumption (W)  Daily Usage (hrs)  \\\n",
       "0              Fan          230              -0.905778           0.344560   \n",
       "1  Air Conditioner          230               0.801732          -0.190922   \n",
       "2     Refrigerator          230              -0.772658           2.605167   \n",
       "3         LED Bulb          230              -0.980782           0.330431   \n",
       "4       Television          230              -0.886965          -0.349164   \n",
       "\n",
       "   Monthly Usage (%)  Daily Energy Consumption (Wh)  \n",
       "0              19.02                      -0.312095  \n",
       "1              40.17                      -0.153068  \n",
       "2               8.23                      -2.012904  \n",
       "3               7.15                      -0.324081  \n",
       "4               4.35                       0.309697  "
      ]
     },
     "execution_count": 16,
     "metadata": {},
     "output_type": "execute_result"
    }
   ],
   "source": [
    "data['Daily Energy Consumption (Wh)'] = data['Power Consumption (W)'] * data['Daily Usage (hrs)']\n",
    "data.head()"
   ]
  },
  {
   "cell_type": "markdown",
   "id": "62b3f0cd",
   "metadata": {},
   "source": [
    "## Saving the Preprocessed Dataset"
   ]
  },
  {
   "cell_type": "code",
   "execution_count": 17,
   "id": "3c740120",
   "metadata": {},
   "outputs": [
    {
     "data": {
      "text/plain": [
       "'Preprocessed_Household_Electricity_Consumption_Dataset.csv'"
      ]
     },
     "execution_count": 17,
     "metadata": {},
     "output_type": "execute_result"
    }
   ],
   "source": [
    "processed_file_path = 'Preprocessed_Household_Electricity_Consumption_Dataset.csv'\n",
    "data.to_csv(processed_file_path, index=False)\n",
    "processed_file_path\n"
   ]
  },
  {
   "cell_type": "markdown",
   "id": "cc3c8079-8e9f-43e9-bed5-7006656d2613",
   "metadata": {},
   "source": [
    "## Data Visualization"
   ]
  },
  {
   "cell_type": "code",
   "execution_count": 18,
   "id": "10e80e43-128c-44cd-9aae-de94b55e9957",
   "metadata": {},
   "outputs": [],
   "source": [
    "# importing \n",
    "import matplotlib.pyplot as plt\n",
    "import seaborn as sns\n",
    "%matplotlib inline"
   ]
  },
  {
   "cell_type": "markdown",
   "id": "e9b33e87-4f95-4f6e-ad51-1de4d55bb488",
   "metadata": {},
   "source": [
    "## Distribution of Power Consumption"
   ]
  },
  {
   "cell_type": "code",
   "execution_count": null,
   "id": "5b986ee7-22dc-4732-ae29-46391a834b10",
   "metadata": {},
   "outputs": [],
   "source": [
    "plt.figure(figsize=(10, 6))\n",
    "sns.histplot(data['Power Consumption (W)'], bins=30, kde=True)\n",
    "plt.title('Distribution of Power Consumption (W)')\n",
    "plt.xlabel('Power Consumption (W)')\n",
    "plt.ylabel('Frequency')\n",
    "plt.show()\n"
   ]
  },
  {
   "cell_type": "markdown",
   "id": "cbd3f05a-e984-44c8-b580-21199f07830e",
   "metadata": {},
   "source": [
    "## Average Daily Usage by Appliance Type"
   ]
  },
  {
   "cell_type": "code",
   "execution_count": null,
   "id": "989a812b-09eb-4096-ad41-7f5a6858f8d1",
   "metadata": {},
   "outputs": [],
   "source": [
    "plt.figure(figsize=(12, 6))\n",
    "sns.barplot(x='Appliance', y='Daily Usage (hrs)', data=data, estimator='mean', ci=None, palette='viridis')\n",
    "plt.title('Average Daily Usage (Hours) by Appliance Type')\n",
    "plt.xticks(rotation=45)\n",
    "plt.xlabel('Appliance')\n",
    "plt.ylabel('Average Daily Usage (hrs)')\n",
    "plt.show()\n"
   ]
  }
 ],
 "metadata": {
  "kernelspec": {
   "display_name": "Python 3 (ipykernel)",
   "language": "python",
   "name": "python3"
  },
  "language_info": {
   "codemirror_mode": {
    "name": "ipython",
    "version": 3
   },
   "file_extension": ".py",
   "mimetype": "text/x-python",
   "name": "python",
   "nbconvert_exporter": "python",
   "pygments_lexer": "ipython3",
   "version": "3.12.3"
  }
 },
 "nbformat": 4,
 "nbformat_minor": 5
}
