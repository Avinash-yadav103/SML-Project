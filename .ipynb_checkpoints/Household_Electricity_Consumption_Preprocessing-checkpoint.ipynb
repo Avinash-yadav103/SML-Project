{
 "cells": [
  {
   "cell_type": "markdown",
   "id": "3c37be22",
   "metadata": {},
   "source": [
    "# Preprocessing Household Electricity Consumption Data\n",
    "This notebook demonstrates preprocessing steps on synthetic household electricity consumption data."
   ]
  },
  {
   "cell_type": "code",
   "execution_count": null,
   "id": "8b6e1be6",
   "metadata": {},
   "outputs": [],
   "source": [
    "import pandas as pd\n",
    "from sklearn.preprocessing import StandardScaler\n",
    "\n",
    "# Load the dataset\n",
    "data = pd.read_csv('/mnt/data/Synthetic_Household_Electricity_Consumption_Dataset.csv')\n",
    "data.head()"
   ]
  },
  {
   "cell_type": "markdown",
   "id": "f0ae9011",
   "metadata": {},
   "source": [
    "## Step 1: Check for Missing Values"
   ]
  },
  {
   "cell_type": "code",
   "execution_count": null,
   "id": "f40c1d67",
   "metadata": {},
   "outputs": [],
   "source": [
    "missing_values = data.isnull().sum()\n",
    "missing_values"
   ]
  },
  {
   "cell_type": "markdown",
   "id": "23c6ddb6",
   "metadata": {},
   "source": [
    "## Step 2: Standardize Numerical Data\n",
    "Using `StandardScaler` to standardize *Power Consumption (W)* and *Daily Usage (hrs)*."
   ]
  },
  {
   "cell_type": "code",
   "execution_count": null,
   "id": "3761e115",
   "metadata": {},
   "outputs": [],
   "source": [
    "scaler = StandardScaler()\n",
    "data[['Power Consumption (W)', 'Daily Usage (hrs)']] = scaler.fit_transform(data[['Power Consumption (W)', 'Daily Usage (hrs)']])\n",
    "data.head()"
   ]
  },
  {
   "cell_type": "markdown",
   "id": "8e066328",
   "metadata": {},
   "source": [
    "## Step 3: Add Derived Feature - Daily Energy Consumption (Wh)\n",
    "Calculate the daily energy consumption by multiplying *Power Consumption (W)* and *Daily Usage (hrs)*."
   ]
  },
  {
   "cell_type": "code",
   "execution_count": null,
   "id": "f6cbb514",
   "metadata": {},
   "outputs": [],
   "source": [
    "data['Daily Energy Consumption (Wh)'] = data['Power Consumption (W)'] * data['Daily Usage (hrs)']\n",
    "data.head()"
   ]
  },
  {
   "cell_type": "markdown",
   "id": "62b3f0cd",
   "metadata": {},
   "source": [
    "## Saving the Preprocessed Dataset"
   ]
  },
  {
   "cell_type": "code",
   "execution_count": null,
   "id": "3c740120",
   "metadata": {},
   "outputs": [],
   "source": [
    "processed_file_path = '/mnt/data/Preprocessed_Household_Electricity_Consumption_Dataset.csv'\n",
    "data.to_csv(processed_file_path, index=False)\n",
    "processed_file_path"
   ]
  }
 ],
 "metadata": {},
 "nbformat": 4,
 "nbformat_minor": 5
}
